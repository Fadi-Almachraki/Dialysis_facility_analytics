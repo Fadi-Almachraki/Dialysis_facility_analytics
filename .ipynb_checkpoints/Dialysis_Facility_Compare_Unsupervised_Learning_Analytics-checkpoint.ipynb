{
 "cells": [
  {
   "cell_type": "code",
   "execution_count": 1,
   "metadata": {},
   "outputs": [],
   "source": [
    "# Import libraries necessary for this project\n",
    "\n",
    "import numpy as np\n",
    "import pandas as pd\n",
    "from scipy import stats\n",
    "from IPython.display import display # Allows the use of display() for DataFrames\n",
    "import visuals as vs\n",
    "from sklearn import model_selection\n",
    "from sklearn.model_selection import train_test_split\n",
    "from sklearn.tree import DecisionTreeRegressor\n",
    "import collections \n",
    "from sklearn.decomposition import PCA, FastICA, LatentDirichletAllocation\n",
    "from sklearn.cluster import KMeans\n",
    "from sklearn.mixture import GaussianMixture\n",
    "from sklearn.random_projection import GaussianRandomProjection\n",
    "from sklearn import metrics  \n",
    "import matplotlib.pyplot as plt\n",
    "import csv\n",
    "from sklearn.metrics import confusion_matrix\n",
    "from sklearn.decomposition import PCA, FastICA, FactorAnalysis\n",
    "from sklearn.random_projection import GaussianRandomProjection\n",
    "from sklearn.preprocessing import StandardScaler\n",
    "%matplotlib inline"
   ]
  },
  {
   "cell_type": "code",
   "execution_count": 2,
   "metadata": {},
   "outputs": [],
   "source": [
    "# load data\n",
    "dfc = pd.read_csv(\"DFC_SOCRATA_FAC_DATA.csv\")\n",
    "#print (dfc.head())\n",
    "#display(dfc.describe())\n",
    "#pd.plotting.scatter_matrix(dfc, alpha = 0.3, figsize = (28,28), diagonal = 'kde')\n",
    "dfc['NETWORK'] = 'Network_' + dfc['NETWORK'].astype(str)"
   ]
  },
  {
   "cell_type": "code",
   "execution_count": 3,
   "metadata": {},
   "outputs": [],
   "source": [
    "dfc.drop(dfc.columns[[0, 2, 3, 5, 6, 7, 8, 10, 11, 12, 21, 22, 23, 24, 26, 28, 30, 31, 32, 34, 36, 38, 39, 40, 41, 42, 43, 44, 45, 46, 47, 49, 50, 51, 57, 58, 59, 60, 61, 62, 63, 64, 65, 66, 67, 68, 70, 71, 73, 74, 76, 77, 78, 79, 80, 81, 82, 83, 84, 86, 87, 89, 90, 91, 92, 93, 95, 96, 97, 98, 99, 101, 102, 103, 104\n",
    "]], axis=1, inplace=True)\n",
    "#list(dfc)\n",
    "#dfc.dtypes"
   ]
  },
  {
   "cell_type": "code",
   "execution_count": 4,
   "metadata": {},
   "outputs": [],
   "source": [
    "#preprocess data\n",
    "def preprocess_features(X):\n",
    "    output = pd.DataFrame(index = X.index)\n",
    "    for col, col_data in X.iteritems():       \n",
    "        # If data type is non-numeric, replace all yes/no values with 1/0\n",
    "        if col_data.dtype == object:\n",
    "            col_data = col_data.replace(['yes', 'no'], [1, 0])\n",
    "        # If data type is categorical, convert to dummy variables\n",
    "        if col_data.dtype == object:\n",
    "            col_data = pd.get_dummies(col_data, prefix = col)        \n",
    "        # Collect the revised columns\n",
    "        output = output.join(col_data)   \n",
    "    #print \"output type \", type(output)\n",
    "    #output.info()\n",
    "    #replace missing values with respective column means\n",
    "    output = output.apply(lambda x: x.fillna(x.mean()),axis=0)\n",
    "    #output.info()\n",
    "    return output\n",
    "\n",
    "dfc_clean = preprocess_features(dfc)\n",
    "#print (dfc_clean.head())"
   ]
  },
  {
   "cell_type": "code",
   "execution_count": 16,
   "metadata": {},
   "outputs": [
    {
     "name": "stderr",
     "output_type": "stream",
     "text": [
      "c:\\users\\falmachraki\\appdata\\local\\continuum\\anaconda3\\envs\\py36\\lib\\site-packages\\sklearn\\preprocessing\\data.py:625: DataConversionWarning: Data with input dtype uint8, int64, float64 were all converted to float64 by StandardScaler.\n",
      "  return self.partial_fit(X, y)\n",
      "c:\\users\\falmachraki\\appdata\\local\\continuum\\anaconda3\\envs\\py36\\lib\\site-packages\\sklearn\\base.py:462: DataConversionWarning: Data with input dtype uint8, int64, float64 were all converted to float64 by StandardScaler.\n",
      "  return self.fit(X, **fit_params).transform(X)\n"
     ]
    },
    {
     "data": {
      "text/plain": [
       "(7281, 202)"
      ]
     },
     "execution_count": 16,
     "metadata": {},
     "output_type": "execute_result"
    }
   ],
   "source": [
    "dfc_clean_std = StandardScaler().fit_transform(dfc_clean)\n",
    "\n",
    "dfc_clean_std.shape"
   ]
  },
  {
   "cell_type": "code",
   "execution_count": 18,
   "metadata": {},
   "outputs": [],
   "source": [
    "#consider data transformation to fix distributions\n",
    "dfc_pca = PCA(n_components=50).fit(dfc_clean_std)\n",
    "dfc_ica = FastICA(n_components=50,max_iter=2000, tol=0.001).fit(dfc_clean_std)\n",
    "dfc_RP = GaussianRandomProjection(n_components=50).fit(dfc_clean_std)\n",
    "dfc_FA = FactorAnalysis(n_components=50).fit(dfc_clean_std)\n",
    "\n",
    "red_dfc_pca = dfc_pca.transform(dfc_clean_std)\n",
    "red_dfc_ica = dfc_ica.transform(dfc_clean_std)\n",
    "red_dfc_RP = dfc_RP.transform(dfc_clean_std)\n",
    "red_dfc_FA = dfc_FA.transform(dfc_clean_std)\n",
    "\n",
    "dfc_pca_components = dfc_pca.components_\n",
    "dfc_ica_components = dfc_ica.components_\n",
    "dfc_RP_components = dfc_RP.components_\n",
    "dfc_FA_components = dfc_FA.components_\n",
    "\n",
    "# exp_var = dfc_pca.explained_variance_ratio_"
   ]
  },
  {
   "cell_type": "code",
   "execution_count": 76,
   "metadata": {},
   "outputs": [
    {
     "data": {
      "image/png": "[encoded data removed]",
      "text/plain": [
       "<Figure size 1440x504 with 2 Axes>"
      ]
     },
     "metadata": {
      "needs_background": "light"
     },
     "output_type": "display_data"
    }
   ],
   "source": [
    "# PCA plots\n",
    "# dfc_pca_results = vs.pca_results(dfc_clean, dfc_pca)\n",
    "\n",
    "#ICA plots\n",
    "# pca_fig = plt.figure(figsize=(20, 7))\n",
    "# ax = pca_fig.add_subplot(111)\n",
    "# ax.set_title('colorMap')\n",
    "# plt.imshow(dfc_ica_components)\n",
    "# ax.set_aspect('equal')\n",
    "# cax = pca_fig.add_axes([-1000, 1000, -1000, 1000])\n",
    "# cax.get_xaxis().set_visible(False)\n",
    "# cax.get_yaxis().set_visible(False)\n",
    "# cax.patch.set_alpha(0)\n",
    "# cax.set_frame_on(False)\n",
    "# plt.colorbar(orientation='vertical')\n",
    "# plt.show()\n",
    "\n",
    "# #RP plots\n",
    "# dfc_RP_fig = plt.figure(figsize=(20, 7))\n",
    "# ax = fig.add_subplot(111)\n",
    "# ax.set_title('colorMap')\n",
    "# plt.imshow(dfc_RP_components)\n",
    "# ax.set_aspect('equal')\n",
    "# #cax = fig.add_axes([-1000, 1000, -1000, 1000])\n",
    "# cax.get_xaxis().set_visible(False)\n",
    "# cax.get_yaxis().set_visible(False)\n",
    "# cax.patch.set_alpha(0)\n",
    "# cax.set_frame_on(False)\n",
    "# plt.colorbar(orientation='vertical')\n",
    "# plt.show()\n",
    "\n",
    "# #FA plots\n",
    "# dfc_FA_fig = plt.figure(figsize=(20, 7))\n",
    "# ax = fig.add_subplot(111)\n",
    "# ax.set_title('colorMap')\n",
    "# plt.imshow(dfc_FA_components)\n",
    "# ax.set_aspect('equal')\n",
    "# #cax = fig.add_axes([-1000, 1000, -1000, 1000])\n",
    "# cax.get_xaxis().set_visible(False)\n",
    "# cax.get_yaxis().set_visible(False)\n",
    "# cax.patch.set_alpha(0)\n",
    "# cax.set_frame_on(False)\n",
    "# plt.colorbar(orientation='vertical')\n",
    "# plt.show()"
   ]
  },
  {
   "cell_type": "code",
   "execution_count": 23,
   "metadata": {},
   "outputs": [
    {
     "name": "stdout",
     "output_type": "stream",
     "text": [
      "[0.12834754840723595, 0.13515981294279303, 0.07166633886667732, 0.015879655778872615, 0.04125416841240364, 0.05621592545320656, 0.056931979132973286, 0.07747587576758322, 0.12359665960207328, 0.13921267892533318, 0.17009614597334133, 0.1745789162345764, 0.1937012832276643, 0.2045627092011034, 0.2346854626760969, 0.2544251559471022, 0.24756814221439116, 0.24219785634532556, 0.27027472864962054, 0.2703934872336811] [0.6812327918112383, 0.4172584950504057, 0.017995545879743738, 0.1339767432042975, 0.12328045418824361, 0.08379671708573967, -0.00931183410964053, 0.01831870927253161, 0.022459818865604875, 0.03829932828440024, 0.04004406680249605, 0.03757689784045342, 0.04113261028047522, 0.046842712422078166, 0.04698282447749424, 0.05077746434552848, 0.05113821823895277, 0.05277490223340069, 0.06619437632836575, 0.06950584054792215]\n"
     ]
    },
    {
     "data": {
      "image/png": "[encoded data removed]",
      "text/plain": [
       "<Figure size 432x288 with 1 Axes>"
      ]
     },
     "metadata": {
      "needs_background": "light"
     },
     "output_type": "display_data"
    }
   ],
   "source": [
    "def kmeans_reduced_clusters(num, data):\n",
    "    kmeans = KMeans(n_clusters=num, random_state=0).fit(data)\n",
    "    kmeans_preds = kmeans.predict(data)\n",
    "    kmeans_centers = kmeans.cluster_centers_\n",
    "    kmeans_score = metrics.silhouette_score(data, kmeans_preds)\n",
    "    return kmeans_score\n",
    "\n",
    "def EM_reduced_clusters(num, data):\n",
    "    EM = GaussianMixture(n_components=num, random_state=0).fit(data)\n",
    "    EM_preds = EM.predict(data)\n",
    "    EM_centers = EM.means_\n",
    "    EM_score = metrics.silhouette_score(data, EM_preds)\n",
    "    return EM_score\n",
    "\n",
    "# print (kmeans_reduced_clusters(red_dfc_pca))\n",
    "# print (kmeans_reduced_clusters(red_dfc_ica)) \n",
    "# print (kmeans_reduced_clusters(red_dfc_RP))\n",
    "# print (kmeans_reduced_clusters(red_dfc_FA))\n",
    "\n",
    "# print (EM_reduced_clusters(red_dfc_pca))\n",
    "# print (EM_reduced_clusters(red_dfc_ica)) \n",
    "# print (EM_reduced_clusters(red_dfc_RP))\n",
    "# print (EM_reduced_clusters(red_dfc_FA))\n",
    "\n",
    "dfc_kmeans_scores = []\n",
    "dfc_EM_scores = []\n",
    "\n",
    "for i in range(0,20):    \n",
    "    dfc_kmeans_scores.append(kmeans_reduced_clusters(i+2, red_dfc_pca))\n",
    "    dfc_EM_scores.append(EM_reduced_clusters(i+2, red_dfc_RP))\n",
    "\n",
    "# print (dfc_kmeans_scores, dfc_EM_scores)\n",
    "    \n",
    "plt.plot(dfc_kmeans_scores, 'r--', dfc_EM_scores, 'g--')\n",
    "plt.axis([0,21,0,1])\n",
    "plt.show()\n",
    "\n"
   ]
  }
 ],
 "metadata": {
  "kernelspec": {
   "display_name": "Python 3",
   "language": "python",
   "name": "python3"
  },
  "language_info": {
   "codemirror_mode": {
    "name": "ipython",
    "version": 3
   },
   "file_extension": ".py",
   "mimetype": "text/x-python",
   "name": "python",
   "nbconvert_exporter": "python",
   "pygments_lexer": "ipython3",
   "version": "3.6.8"
  }
 },
 "nbformat": 4,
 "nbformat_minor": 2
}
