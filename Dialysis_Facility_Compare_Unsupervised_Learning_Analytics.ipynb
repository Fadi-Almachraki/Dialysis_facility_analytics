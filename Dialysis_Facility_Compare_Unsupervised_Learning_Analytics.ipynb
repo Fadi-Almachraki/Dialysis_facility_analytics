{
 "cells": [
  {
   "cell_type": "code",
   "execution_count": 65,
   "metadata": {},
   "outputs": [],
   "source": [
    "# Import libraries necessary for this project\n",
    "\n",
    "import numpy as np\n",
    "import pandas as pd\n",
    "from scipy import stats\n",
    "from IPython.display import display # Allows the use of display() for DataFrames\n",
    "import visuals as vs\n",
    "from sklearn import model_selection\n",
    "from sklearn.model_selection import train_test_split\n",
    "from sklearn.tree import DecisionTreeRegressor\n",
    "import collections \n",
    "from sklearn.decomposition import PCA, FastICA, LatentDirichletAllocation\n",
    "from sklearn.cluster import KMeans\n",
    "from sklearn.mixture import GaussianMixture\n",
    "from sklearn.random_projection import GaussianRandomProjection\n",
    "from sklearn import metrics  \n",
    "import matplotlib.pyplot as plt\n",
    "import csv\n",
    "from sklearn.metrics import confusion_matrix\n",
    "from sklearn.decomposition import PCA, FastICA, FactorAnalysis\n",
    "from sklearn.random_projection import GaussianRandomProjection\n",
    "from sklearn.preprocessing import StandardScaler\n",
    "%matplotlib inline"
   ]
  },
  {
   "cell_type": "code",
   "execution_count": 66,
   "metadata": {},
   "outputs": [],
   "source": [
    "# load data\n",
    "dfc = pd.read_csv(\"DFC_SOCRATA_FAC_DATA.csv\")\n",
    "#print (dfc.head())\n",
    "#display(dfc.describe())\n",
    "#pd.plotting.scatter_matrix(dfc, alpha = 0.3, figsize = (28,28), diagonal = 'kde')\n",
    "dfc['NETWORK'] = 'Network_' + dfc['NETWORK'].astype(str)"
   ]
  },
  {
   "cell_type": "code",
   "execution_count": 67,
   "metadata": {},
   "outputs": [],
   "source": [
    "dfc.drop(dfc.columns[[0, 2, 3, 5, 6, 7, 8, 10, 11, 12, 21, 22, 23, 24, 26, 28, 30, 31, 32, 34, 36, 38, 39, 40, 41, 42, 43, 44, 45, 46, 47, 49, 50, 51, 57, 58, 59, 60, 61, 62, 63, 64, 65, 66, 67, 68, 70, 71, 73, 74, 76, 77, 78, 79, 80, 81, 82, 83, 84, 86, 87, 89, 90, 91, 92, 93, 95, 96, 97, 98, 99, 101, 102, 103, 104\n",
    "]], axis=1, inplace=True)\n",
    "#list(dfc)\n",
    "#dfc.dtypes"
   ]
  },
  {
   "cell_type": "code",
   "execution_count": 68,
   "metadata": {},
   "outputs": [],
   "source": [
    "#preprocess data\n",
    "def preprocess_features(X):\n",
    "    output = pd.DataFrame(index = X.index)\n",
    "    for col, col_data in X.iteritems():       \n",
    "        # If data type is non-numeric, replace all yes/no values with 1/0\n",
    "        if col_data.dtype == object:\n",
    "            col_data = col_data.replace(['yes', 'no'], [1, 0])\n",
    "        # If data type is categorical, convert to dummy variables\n",
    "        if col_data.dtype == object:\n",
    "            col_data = pd.get_dummies(col_data, prefix = col)        \n",
    "        # Collect the revised columns\n",
    "        output = output.join(col_data)   \n",
    "    #print \"output type \", type(output)\n",
    "    #output.info()\n",
    "    #replace missing values with respective column means\n",
    "    output = output.apply(lambda x: x.fillna(x.mean()),axis=0)\n",
    "    #output.info()\n",
    "    return output\n",
    "\n",
    "dfc_clean = preprocess_features(dfc)\n",
    "#print (dfc_clean.head())"
   ]
  },
  {
   "cell_type": "code",
   "execution_count": 69,
   "metadata": {},
   "outputs": [
    {
     "name": "stderr",
     "output_type": "stream",
     "text": [
      "c:\\users\\falmachraki\\appdata\\local\\continuum\\anaconda3\\envs\\py36\\lib\\site-packages\\sklearn\\preprocessing\\data.py:625: DataConversionWarning: Data with input dtype uint8, int64, float64 were all converted to float64 by StandardScaler.\n",
      "  return self.partial_fit(X, y)\n",
      "c:\\users\\falmachraki\\appdata\\local\\continuum\\anaconda3\\envs\\py36\\lib\\site-packages\\sklearn\\base.py:462: DataConversionWarning: Data with input dtype uint8, int64, float64 were all converted to float64 by StandardScaler.\n",
      "  return self.fit(X, **fit_params).transform(X)\n"
     ]
    }
   ],
   "source": [
    "dfc_clean_std = StandardScaler().fit_transform(dfc_clean)"
   ]
  },
  {
   "cell_type": "code",
   "execution_count": 70,
   "metadata": {},
   "outputs": [],
   "source": [
    "#consider data transformation to fix distributions\n",
    "dfc_pca = PCA(n_components=2).fit(dfc_clean_std)\n",
    "dfc_ica = FastICA(n_components=2,max_iter=2000, tol=0.001).fit(dfc_clean_std)\n",
    "dfc_RP = GaussianRandomProjection(n_components=2).fit(dfc_clean_std)\n",
    "dfc_FA = FactorAnalysis(n_components=2).fit(dfc_clean_std)\n",
    "\n",
    "red_dfc_pca = dfc_pca.transform(dfc_clean_std)\n",
    "red_dfc_ica = dfc_ica.transform(dfc_clean_std)\n",
    "red_dfc_RP = dfc_RP.transform(dfc_clean_std)\n",
    "red_dfc_FA = dfc_FA.transform(dfc_clean_std)\n",
    "\n",
    "dfc_pca_components = dfc_pca.components_\n",
    "dfc_ica_components = dfc_ica.components_\n",
    "dfc_RP_components = dfc_RP.components_\n",
    "dfc_FA_components = dfc_FA.components_"
   ]
  },
  {
   "cell_type": "code",
   "execution_count": 76,
   "metadata": {},
   "outputs": [
    {
     "data": {
      "image/png": "[encoded data removed]",
      "text/plain": [
       "<Figure size 1440x504 with 2 Axes>"
      ]
     },
     "metadata": {
      "needs_background": "light"
     },
     "output_type": "display_data"
    }
   ],
   "source": [
    "# PCA plots\n",
    "# dfc_pca_results = vs.pca_results(dfc_clean, dfc_pca)\n",
    "\n",
    "#ICA plots\n",
    "# pca_fig = plt.figure(figsize=(20, 7))\n",
    "# ax = pca_fig.add_subplot(111)\n",
    "# ax.set_title('colorMap')\n",
    "# plt.imshow(dfc_ica_components)\n",
    "# ax.set_aspect('equal')\n",
    "# cax = pca_fig.add_axes([-1000, 1000, -1000, 1000])\n",
    "# cax.get_xaxis().set_visible(False)\n",
    "# cax.get_yaxis().set_visible(False)\n",
    "# cax.patch.set_alpha(0)\n",
    "# cax.set_frame_on(False)\n",
    "# plt.colorbar(orientation='vertical')\n",
    "# plt.show()\n",
    "\n",
    "# #RP plots\n",
    "# dfc_RP_fig = plt.figure(figsize=(20, 7))\n",
    "# ax = fig.add_subplot(111)\n",
    "# ax.set_title('colorMap')\n",
    "# plt.imshow(dfc_RP_components)\n",
    "# ax.set_aspect('equal')\n",
    "# #cax = fig.add_axes([-1000, 1000, -1000, 1000])\n",
    "# cax.get_xaxis().set_visible(False)\n",
    "# cax.get_yaxis().set_visible(False)\n",
    "# cax.patch.set_alpha(0)\n",
    "# cax.set_frame_on(False)\n",
    "# plt.colorbar(orientation='vertical')\n",
    "# plt.show()\n",
    "\n",
    "# #FA plots\n",
    "# dfc_FA_fig = plt.figure(figsize=(20, 7))\n",
    "# ax = fig.add_subplot(111)\n",
    "# ax.set_title('colorMap')\n",
    "# plt.imshow(dfc_FA_components)\n",
    "# ax.set_aspect('equal')\n",
    "# #cax = fig.add_axes([-1000, 1000, -1000, 1000])\n",
    "# cax.get_xaxis().set_visible(False)\n",
    "# cax.get_yaxis().set_visible(False)\n",
    "# cax.patch.set_alpha(0)\n",
    "# cax.set_frame_on(False)\n",
    "# plt.colorbar(orientation='vertical')\n",
    "# plt.show()"
   ]
  },
  {
   "cell_type": "code",
   "execution_count": 80,
   "metadata": {},
   "outputs": [
    {
     "name": "stdout",
     "output_type": "stream",
     "text": [
      "0.42805346479609874\n",
      "0.4366176033217567\n",
      "0.31643777873431944\n",
      "0.599471391770593\n",
      "0.30628598875627705\n",
      "0.2994836217537677\n",
      "0.2759343670137826\n",
      "0.6008717578745356\n"
     ]
    }
   ],
   "source": [
    "def kmeans_reduced_clusters(data):\n",
    "    kmeans = KMeans(n_clusters=3, random_state=0).fit(data)\n",
    "    kmeans_preds = kmeans.predict(data)\n",
    "    kmeans_centers = kmeans.cluster_centers_\n",
    "    kmeans_score = metrics.silhouette_score(data, kmeans_preds)\n",
    "    return kmeans_score\n",
    "\n",
    "def EM_reduced_clusters(data):\n",
    "    EM = GaussianMixture(n_components=3, random_state=0).fit(data)\n",
    "    EM_preds = EM.predict(data)\n",
    "    EM_centers = EM.means_\n",
    "    EM_score = metrics.silhouette_score(data, EM_preds)\n",
    "    return EM_score\n",
    "\n",
    "print (kmeans_reduced_clusters(red_dfc_pca))\n",
    "print (kmeans_reduced_clusters(red_dfc_ica)) \n",
    "print (kmeans_reduced_clusters(red_dfc_RP))\n",
    "print (kmeans_reduced_clusters(red_dfc_FA))\n",
    "\n",
    "print (EM_reduced_clusters(red_dfc_pca))\n",
    "print (EM_reduced_clusters(red_dfc_ica)) \n",
    "print (EM_reduced_clusters(red_dfc_RP))\n",
    "print (EM_reduced_clusters(red_dfc_FA))"
   ]
  },
  {
   "cell_type": "code",
   "execution_count": 81,
   "metadata": {},
   "outputs": [
    {
     "ename": "AttributeError",
     "evalue": "'numpy.ndarray' object has no attribute 'loc'",
     "output_type": "error",
     "traceback": [
      "\u001b[1;31m---------------------------------------------------------------------------\u001b[0m",
      "\u001b[1;31mAttributeError\u001b[0m                            Traceback (most recent call last)",
      "\u001b[1;32m<ipython-input-81-f99f8fc923ec>\u001b[0m in \u001b[0;36m<module>\u001b[1;34m\u001b[0m\n\u001b[1;32m----> 1\u001b[1;33m \u001b[0mvs\u001b[0m\u001b[1;33m.\u001b[0m\u001b[0mbiplot\u001b[0m\u001b[1;33m(\u001b[0m\u001b[0mdfc_clean\u001b[0m\u001b[1;33m,\u001b[0m \u001b[0mred_dfc_pca\u001b[0m\u001b[1;33m,\u001b[0m \u001b[0mdfc_pca\u001b[0m\u001b[1;33m)\u001b[0m\u001b[1;33m\u001b[0m\u001b[1;33m\u001b[0m\u001b[0m\n\u001b[0m",
      "\u001b[1;32m~\\Google Drive\\Github Project Portfolio\\Dialysis_clinic_analytics\\visuals.py\u001b[0m in \u001b[0;36mbiplot\u001b[1;34m(good_data, reduced_data, pca)\u001b[0m\n\u001b[0;32m    102\u001b[0m     \u001b[0mfig\u001b[0m\u001b[1;33m,\u001b[0m \u001b[0max\u001b[0m \u001b[1;33m=\u001b[0m \u001b[0mplt\u001b[0m\u001b[1;33m.\u001b[0m\u001b[0msubplots\u001b[0m\u001b[1;33m(\u001b[0m\u001b[0mfigsize\u001b[0m \u001b[1;33m=\u001b[0m \u001b[1;33m(\u001b[0m\u001b[1;36m14\u001b[0m\u001b[1;33m,\u001b[0m\u001b[1;36m8\u001b[0m\u001b[1;33m)\u001b[0m\u001b[1;33m)\u001b[0m\u001b[1;33m\u001b[0m\u001b[1;33m\u001b[0m\u001b[0m\n\u001b[0;32m    103\u001b[0m     \u001b[1;31m# scatterplot of the reduced data\u001b[0m\u001b[1;33m\u001b[0m\u001b[1;33m\u001b[0m\u001b[1;33m\u001b[0m\u001b[0m\n\u001b[1;32m--> 104\u001b[1;33m     ax.scatter(x=reduced_data.loc[:, 'Dimension 1'], y=reduced_data.loc[:, 'Dimension 2'], \n\u001b[0m\u001b[0;32m    105\u001b[0m         facecolors='b', edgecolors='b', s=70, alpha=0.5)\n\u001b[0;32m    106\u001b[0m \u001b[1;33m\u001b[0m\u001b[0m\n",
      "\u001b[1;31mAttributeError\u001b[0m: 'numpy.ndarray' object has no attribute 'loc'"
     ]
    },
    {
     "data": {
      "image/png": "[encoded data removed]",
      "text/plain": [
       "<Figure size 1008x576 with 1 Axes>"
      ]
     },
     "metadata": {
      "needs_background": "light"
     },
     "output_type": "display_data"
    }
   ],
   "source": [
    "vs.biplot(dfc_clean, red_dfc_pca, dfc_pca)"
   ]
  }
 ],
 "metadata": {
  "kernelspec": {
   "display_name": "Python 3",
   "language": "python",
   "name": "python3"
  },
  "language_info": {
   "codemirror_mode": {
    "name": "ipython",
    "version": 3
   },
   "file_extension": ".py",
   "mimetype": "text/x-python",
   "name": "python",
   "nbconvert_exporter": "python",
   "pygments_lexer": "ipython3",
   "version": "3.6.8"
  }
 },
 "nbformat": 4,
 "nbformat_minor": 2
}
